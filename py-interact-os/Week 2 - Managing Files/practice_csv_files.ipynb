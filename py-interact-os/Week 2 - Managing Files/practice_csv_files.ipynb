{
 "cells": [
  {
   "cell_type": "code",
   "execution_count": 1,
   "metadata": {},
   "outputs": [],
   "source": [
    "import csv"
   ]
  },
  {
   "attachments": {},
   "cell_type": "markdown",
   "metadata": {},
   "source": [
    "Reading CSV"
   ]
  },
  {
   "cell_type": "code",
   "execution_count": null,
   "metadata": {},
   "outputs": [],
   "source": [
    "f = open('philippines_2023-04-20_abf40.csv')\n",
    "csv_f = csv.reader(f)\n"
   ]
  },
  {
   "cell_type": "code",
   "execution_count": null,
   "metadata": {},
   "outputs": [],
   "source": [
    "for row in csv_f:\n",
    "    #print(row)\n",
    "    ticker,description,price = row\n",
    "    print(f'Ticker:{ticker},Description:{description},Price:{price}')"
   ]
  },
  {
   "attachments": {},
   "cell_type": "markdown",
   "metadata": {},
   "source": [
    "Generating CSV"
   ]
  },
  {
   "cell_type": "code",
   "execution_count": 12,
   "metadata": {},
   "outputs": [],
   "source": [
    "stock = [['name','desc','price'],['NEW','Sample Data', 25],['TWO','Second Sample', 30]]\n",
    "with open('philippines_2023-04-20_abf40.csv','w') as stock_csv:\n",
    "    writer = csv.writer(stock_csv)\n",
    "    writer.writerows(stock)"
   ]
  },
  {
   "attachments": {},
   "cell_type": "markdown",
   "metadata": {},
   "source": [
    "Reading and Writing CSV Files with Dictionaries"
   ]
  },
  {
   "cell_type": "code",
   "execution_count": 13,
   "metadata": {},
   "outputs": [
    {
     "name": "stdout",
     "output_type": "stream",
     "text": [
      "NEW, Sample Data, 25\n",
      "TWO, Second Sample, 30\n"
     ]
    }
   ],
   "source": [
    "with open('philippines_2023-04-20_abf40.csv') as data:\n",
    "    reader = csv.DictReader(data)\n",
    "    for row in reader:\n",
    "        print(f'{row[\"name\"]}, {row[\"desc\"]}, {row[\"price\"]}')\n",
    "\n"
   ]
  },
  {
   "cell_type": "code",
   "execution_count": 15,
   "metadata": {},
   "outputs": [],
   "source": [
    "users = [\n",
    "    {\n",
    "        \"name\": \"John Smith\",\n",
    "        \"username\": \"jsmith\",\n",
    "        \"department\": \"Sales\"\n",
    "    },\n",
    "    {\n",
    "        \"name\": \"Emily Jones\",\n",
    "        \"username\": \"ejones\",\n",
    "        \"department\": \"Marketing\"\n",
    "    },\n",
    "    {\n",
    "        \"name\": \"David Lee\",\n",
    "        \"username\": \"dlee\",\n",
    "        \"department\": \"IT\"\n",
    "    },\n",
    "    {\n",
    "        \"name\": \"Sarah Kim\",\n",
    "        \"username\": \"skim\",\n",
    "        \"department\": \"HR\"\n",
    "    },\n",
    "    {\n",
    "        \"name\": \"Michael Chen\",\n",
    "        \"username\": \"mchen\",\n",
    "        \"department\": \"Finance\"\n",
    "    }\n",
    "]\n"
   ]
  },
  {
   "cell_type": "code",
   "execution_count": 16,
   "metadata": {},
   "outputs": [],
   "source": [
    "keys = ['name','username','department']\n",
    "with open('by_department.csv','w') as by_department:\n",
    "    writer = csv.DictWriter(by_department,fieldnames=keys)\n",
    "    writer.writeheader()\n",
    "    writer.writerows(users)"
   ]
  }
 ],
 "metadata": {
  "kernelspec": {
   "display_name": "Python 3",
   "language": "python",
   "name": "python3"
  },
  "language_info": {
   "codemirror_mode": {
    "name": "ipython",
    "version": 3
   },
   "file_extension": ".py",
   "mimetype": "text/x-python",
   "name": "python",
   "nbconvert_exporter": "python",
   "pygments_lexer": "ipython3",
   "version": "3.10.10"
  },
  "orig_nbformat": 4
 },
 "nbformat": 4,
 "nbformat_minor": 2
}
